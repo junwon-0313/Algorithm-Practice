{
 "cells": [
  {
   "cell_type": "markdown",
   "metadata": {},
   "source": [
    "# 기초"
   ]
  },
  {
   "cell_type": "markdown",
   "metadata": {},
   "source": [
    "## 순열과 조합을 직접 구현"
   ]
  },
  {
   "cell_type": "code",
   "execution_count": null,
   "metadata": {},
   "outputs": [],
   "source": [
    "def permutations(array, r):\n",
    "    for i in range(len(array)):\n",
    "        if r == 1:\n",
    "            yield [array[i]]\n",
    "        else:\n",
    "            for next in permutations(array[:i] + array[i + 1 :], r - 1):\n",
    "                yield [array[i]] + next\n",
    "\n",
    "\n",
    "a = list(permutations([1, 2, 3, 4], 3))\n",
    "a"
   ]
  },
  {
   "cell_type": "code",
   "execution_count": null,
   "metadata": {},
   "outputs": [],
   "source": [
    "from itertools import permutations\n",
    "\n",
    "permutations\n",
    "b = list(permutations([1, 2, 3, 4], 3))\n",
    "b"
   ]
  },
  {
   "cell_type": "code",
   "execution_count": null,
   "metadata": {},
   "outputs": [],
   "source": [
    "# 2개의 기준으로 리스트를 정렬\n",
    "sorted(a, key=lambda x: (x[0], -x[1]))"
   ]
  },
  {
   "cell_type": "code",
   "execution_count": null,
   "metadata": {},
   "outputs": [],
   "source": [
    "# sorted 이용 시, 기본 배열은 바뀌지 않음\n",
    "a"
   ]
  },
  {
   "cell_type": "code",
   "execution_count": null,
   "metadata": {},
   "outputs": [],
   "source": [
    "# def permutations(array, r):\n",
    "#     for i in range(len(array)):\n",
    "#         if r==1:\n",
    "#             yield [array[i]]\n",
    "#         else:\n",
    "#             for next in permutations(array[:i]+array[i+1:], r-1):\n",
    "#                 yield [array[i]]+next\n",
    "\n",
    "# list(permutations([1,2,3],2))"
   ]
  },
  {
   "cell_type": "code",
   "execution_count": null,
   "metadata": {},
   "outputs": [],
   "source": [
    "def combinations(array, r):\n",
    "    for i in range(len(array)):\n",
    "        if r == 1:\n",
    "            yield [array[i]]\n",
    "        else:\n",
    "            for next in combinations(array[i + 1 :], r - 1):\n",
    "                yield [array[i]] + next"
   ]
  },
  {
   "cell_type": "code",
   "execution_count": null,
   "metadata": {},
   "outputs": [],
   "source": [
    "list(combinations([1, 2, 3, 4], 2))"
   ]
  }
 ],
 "metadata": {
  "kernelspec": {
   "display_name": "Python 3",
   "language": "python",
   "name": "python3"
  },
  "language_info": {
   "codemirror_mode": {
    "name": "ipython",
    "version": 3
   },
   "file_extension": ".py",
   "mimetype": "text/x-python",
   "name": "python",
   "nbconvert_exporter": "python",
   "pygments_lexer": "ipython3",
   "version": "3.11.0"
  },
  "orig_nbformat": 4
 },
 "nbformat": 4,
 "nbformat_minor": 2
}
