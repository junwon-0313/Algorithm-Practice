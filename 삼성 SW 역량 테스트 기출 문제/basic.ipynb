{
 "cells": [
  {
   "cell_type": "markdown",
   "metadata": {},
   "source": [
    "# 기초"
   ]
  },
  {
   "cell_type": "markdown",
   "metadata": {},
   "source": [
    "## 순열과 조합을 직접 구현"
   ]
  },
  {
   "cell_type": "code",
   "execution_count": null,
   "metadata": {},
   "outputs": [],
   "source": [
    "def permutations(array, r):\n",
    "    for i in range(len(array)):\n",
    "        if r == 1:\n",
    "            yield [array[i]]\n",
    "        else:\n",
    "            for next in permutations(array[:i] + array[i + 1 :], r - 1):\n",
    "                yield [array[i]] + next\n",
    "\n",
    "\n",
    "a = list(permutations([1, 2, 3, 4], 3))\n",
    "a"
   ]
  },
  {
   "cell_type": "code",
   "execution_count": null,
   "metadata": {},
   "outputs": [],
   "source": [
    "from itertools import permutations\n",
    "\n",
    "permutations\n",
    "b = list(permutations([1, 2, 3, 4], 3))\n",
    "b"
   ]
  },
  {
   "cell_type": "code",
   "execution_count": null,
   "metadata": {},
   "outputs": [],
   "source": [
    "# def permutations(array, r):\n",
    "#     for i in range(len(array)):\n",
    "#         if r==1:\n",
    "#             yield [array[i]]\n",
    "#         else:\n",
    "#             for next in permutations(array[:i]+array[i+1:], r-1):\n",
    "#                 yield [array[i]]+next\n",
    "\n",
    "# list(permutations([1,2,3],2))"
   ]
  },
  {
   "cell_type": "code",
   "execution_count": null,
   "metadata": {},
   "outputs": [],
   "source": [
    "def combinations(array, r):\n",
    "    for i in range(len(array)):\n",
    "        if r == 1:\n",
    "            yield [array[i]]\n",
    "        else:\n",
    "            for next in combinations(array[i + 1 :], r - 1):\n",
    "                yield [array[i]] + next"
   ]
  },
  {
   "cell_type": "code",
   "execution_count": null,
   "metadata": {},
   "outputs": [],
   "source": [
    "list(combinations([1, 2, 3, 4], 2))"
   ]
  },
  {
   "cell_type": "markdown",
   "metadata": {},
   "source": [
    "## 배열을 특정케이스로 정렬하는 방법"
   ]
  },
  {
   "cell_type": "code",
   "execution_count": null,
   "metadata": {},
   "outputs": [],
   "source": [
    "lst = ['1235','345235', '34234234']"
   ]
  },
  {
   "cell_type": "code",
   "execution_count": null,
   "metadata": {},
   "outputs": [],
   "source": [
    "# 2개의 기준으로 리스트를 정렬\n",
    "sorted(lst, key=lambda x: (x[0], -int(x[1])))"
   ]
  },
  {
   "cell_type": "markdown",
   "metadata": {},
   "source": [
    "### string은 마이너스로 반대로 정렬 불가능"
   ]
  },
  {
   "cell_type": "code",
   "execution_count": null,
   "metadata": {},
   "outputs": [],
   "source": [
    "lst2 = ['bird', 'children', 'desk']\n"
   ]
  },
  {
   "cell_type": "code",
   "execution_count": null,
   "metadata": {},
   "outputs": [],
   "source": [
    "sorted(lst2, key=lambda x: (-ord(x[0]), ord(x[1])))\n"
   ]
  }
 ],
 "metadata": {
  "kernelspec": {
   "display_name": "Python 3",
   "language": "python",
   "name": "python3"
  },
  "language_info": {
   "codemirror_mode": {
    "name": "ipython",
    "version": 3
   },
   "file_extension": ".py",
   "mimetype": "text/x-python",
   "name": "python",
   "nbconvert_exporter": "python",
   "pygments_lexer": "ipython3",
   "version": "3.11.0"
  },
  "orig_nbformat": 4
 },
 "nbformat": 4,
 "nbformat_minor": 2
}
