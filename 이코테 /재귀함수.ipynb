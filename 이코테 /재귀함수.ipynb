{
 "cells": [
  {
   "cell_type": "code",
   "execution_count": null,
   "metadata": {},
   "outputs": [],
   "source": [
    "import copy\n",
    "\n",
    "def popping():\n",
    "    lst.pop()\n",
    "\n",
    "def recursive(lst, cnt): \n",
    "    if cnt==0:\n",
    "        return\n",
    "    popping()\n",
    "    print('pop', lst)\n",
    "    recursive(copy.deepcopy(lst),cnt-1)\n",
    "\n",
    "lst = [1,2,3,4,5]\n",
    "print('before', lst)\n",
    "recursive(copy.deepcopy(lst), len(lst))\n",
    "print('after', lst)"
   ]
  },
  {
   "cell_type": "code",
   "execution_count": null,
   "metadata": {},
   "outputs": [],
   "source": [
    "import copy\n",
    "\n",
    "def popping(pop_lst):\n",
    "    pop_lst.pop()\n",
    "\n",
    "def recursive(lst, cnt): \n",
    "    if cnt==0:\n",
    "        return\n",
    "    popping(lst)\n",
    "    print('pop', lst)\n",
    "    recursive(copy.deepcopy(lst),cnt-1)\n",
    "\n",
    "lst = [1,2,3,4,5]\n",
    "print('before', lst)\n",
    "recursive(copy.deepcopy(lst), len(lst))\n",
    "print('after', lst)"
   ]
  },
  {
   "cell_type": "markdown",
   "metadata": {},
   "source": [
    "1. 함수의 인자는 지역 변수, 해당 함수가 실행 중일 때만 사용가능 \n",
    "2. 리스트는 전역 변수! 따라서 깊은 복사를 통해 생성된 새로운 리스트를 인자로 전달해주어 사용\n",
    "3. 해당 복사된 리스트는 함수가 실행 중에만 값을 가짐\n",
    "4. 전역 변수로 lst가 존재하는데 함수에서 lst를 새롭게 정의하면, 함수 내에서만 지역 변수로 lst가 사용됨. 함수 밖에서는 여전히 전역 변수 lst가 남아있음."
   ]
  }
 ],
 "metadata": {
  "kernelspec": {
   "display_name": "Python 3",
   "language": "python",
   "name": "python3"
  },
  "language_info": {
   "codemirror_mode": {
    "name": "ipython",
    "version": 3
   },
   "file_extension": ".py",
   "mimetype": "text/x-python",
   "name": "python",
   "nbconvert_exporter": "python",
   "pygments_lexer": "ipython3",
   "version": "3.11.0"
  }
 },
 "nbformat": 4,
 "nbformat_minor": 2
}
