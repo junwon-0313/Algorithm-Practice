{
 "cells": [
  {
   "cell_type": "code",
   "execution_count": null,
   "metadata": {},
   "outputs": [],
   "source": [
    "# 탐색: 원하는 데이터를 찾는 과정"
   ]
  },
  {
   "cell_type": "code",
   "execution_count": null,
   "metadata": {},
   "outputs": [],
   "source": [
    "lst = [1,23,32]\n",
    "lst.append(1)"
   ]
  },
  {
   "cell_type": "code",
   "execution_count": null,
   "metadata": {},
   "outputs": [],
   "source": [
    "lst"
   ]
  },
  {
   "cell_type": "code",
   "execution_count": null,
   "metadata": {},
   "outputs": [],
   "source": [
    "lst.pop()"
   ]
  },
  {
   "cell_type": "code",
   "execution_count": null,
   "metadata": {},
   "outputs": [],
   "source": [
    "lst"
   ]
  },
  {
   "cell_type": "code",
   "execution_count": null,
   "metadata": {},
   "outputs": [],
   "source": [
    "from collections import deque\n",
    "queue = deque()\n",
    "queue.append(1)\n",
    "queue.append(2)\n",
    "queue.append(3)\n",
    "queue.popleft()"
   ]
  },
  {
   "cell_type": "code",
   "execution_count": null,
   "metadata": {},
   "outputs": [],
   "source": [
    "queue"
   ]
  },
  {
   "cell_type": "code",
   "execution_count": null,
   "metadata": {},
   "outputs": [],
   "source": [
    "# lst.pop(0)는 O(k)만큼의 시간이 소요됨"
   ]
  },
  {
   "cell_type": "code",
   "execution_count": null,
   "metadata": {},
   "outputs": [],
   "source": [
    "#DFS - stack, 재귀\n",
    "# 방문 기준: 가장 작은 노드\n",
    "def dfs(graph, v, visited):\n",
    "    # 방문처리\n",
    "    visited[v]=True\n",
    "    # 동작\n",
    "    print(v, end =' ')\n",
    "    # dfs\n",
    "    for i in graph[v]:\n",
    "        if not visited[i]:\n",
    "            dfs(graph, i, visited)\n",
    "            \n",
    "graph = [\n",
    "    [],\n",
    "    [2,3,8],\n",
    "    [1,7],\n",
    "    [1,4,5],\n",
    "    [3,5],\n",
    "    [3,4],\n",
    "    [7],\n",
    "    [2,6,8],\n",
    "    [1,7]\n",
    "]\n",
    "visited = [False]*9\n",
    "\n",
    "dfs(graph, 1, visited)"
   ]
  },
  {
   "cell_type": "code",
   "execution_count": null,
   "metadata": {},
   "outputs": [],
   "source": [
    "#DFS - stack, 재귀\n",
    "# 방문 기준: 가장 작은 노드\n",
    "def dfs(graph, stack, visited):\n",
    "    v = stack.pop()\n",
    "    visited[v]=True\n",
    "    print(v, end =' ')\n",
    "    for i in sorted(graph[v], key = lambda x:x):\n",
    "        if not visited[i]:\n",
    "            stack.append(i)\n",
    "            dfs(graph, stack, visited)\n",
    "            \n",
    "graph = [\n",
    "    [],\n",
    "    [8,3,2],\n",
    "    [1,7],\n",
    "    [1,4,5],\n",
    "    [3,5],\n",
    "    [3,4],\n",
    "    [7],\n",
    "    [2,6,8],\n",
    "    [1,7]\n",
    "]\n",
    "visited = [False]*9\n",
    "stack =[]\n",
    "stack.append(1)\n",
    "\n",
    "dfs(graph, stack, visited)"
   ]
  },
  {
   "cell_type": "code",
   "execution_count": null,
   "metadata": {},
   "outputs": [],
   "source": [
    "# BFS, queue\n",
    "# 그래프에서 가까운 노드부터 우선적으로 탐색\n",
    "from collections import deque\n",
    "\n",
    "def bfs(graph, start, visited):\n",
    "    #시작점 방문처리\n",
    "    queue =deque([start])\n",
    "    visited[start]=True\n",
    "    while queue:\n",
    "        \n",
    "        v = queue.popleft()\n",
    "        print(v, end =' ')\n",
    "        for i in graph[v]:\n",
    "            if not visited[i]:\n",
    "                queue.append(i)\n",
    "                visited[i]=True\n",
    "            \n",
    "graph = [\n",
    "    [],\n",
    "    [2,3,8],\n",
    "    [1,7],\n",
    "    [1,4,5],\n",
    "    [3,5],\n",
    "    [3,4],\n",
    "    [7],\n",
    "    [2,6,8],\n",
    "    [1,7]\n",
    "]\n",
    "\n",
    "visited = [False]*9\n",
    "\n",
    "bfs(graph, 1, visited)"
   ]
  },
  {
   "cell_type": "code",
   "execution_count": null,
   "metadata": {},
   "outputs": [],
   "source": [
    "# 얼음 만들기\n",
    "# 상하좌우가 연결되어 있는 그래프로 보고 풀이를 진행\n",
    "n,m = map(int, input().split())\n",
    "total_ice= []\n",
    "for i in range(n):\n",
    "    total_ice.append(list(map(int, input())))\n",
    "\n",
    "def bfs(graph, start):\n",
    "    queue=deque([start])\n",
    "    dx,dy=[0,1,0,-1], [1,0,-1,0]\n",
    "    while queue:\n",
    "        here= queue.popleft()\n",
    "        x, y = here[0], here[1]\n",
    "        for i in range(4):\n",
    "            nx= x + dx[i]\n",
    "            ny= y + dy[i]\n",
    "             \n",
    "            if nx<0 or nx >n-1 or ny<0 or ny >m-1:\n",
    "                continue\n",
    "            if graph[nx][ny]==0:\n",
    "                queue.append((nx,ny))\n",
    "                graph[nx][ny]=1\n",
    "\n",
    "\n",
    "count=0\n",
    "for i in range(n):\n",
    "    for j in range(m):\n",
    "        if total_ice[i][j]==0:\n",
    "            count+=1\n",
    "            start = (i,j)\n",
    "            bfs(total_ice, start)\n",
    "\n",
    "print(count)"
   ]
  },
  {
   "cell_type": "code",
   "execution_count": null,
   "metadata": {},
   "outputs": [],
   "source": [
    "def dfs(x,y):\n",
    "    if x<0 or x>n-1 or y<0 or y>m-1:\n",
    "        return False\n",
    "    if total_ice[x][y]==0:\n",
    "        total_ice[x][y]=1\n",
    "\n",
    "        dfs(x-1,y)\n",
    "        dfs(x, y-1)\n",
    "        dfs(x+1,y)\n",
    "        dfs(x,y+1)\n",
    "        return True\n",
    "    return False\n",
    "\n",
    "n,m = map(int, input().split())\n",
    "total_ice= []\n",
    "for i in range(n):\n",
    "    total_ice.append(list(map(int, input())))\n",
    "    \n",
    "result = 0\n",
    "for i in range(n):\n",
    "    for j in range(m):\n",
    "        if dfs(i,j):\n",
    "            result+=1\n",
    "print(result)"
   ]
  },
  {
   "cell_type": "code",
   "execution_count": null,
   "metadata": {},
   "outputs": [],
   "source": [
    "# 미로 탈출\n",
    "# bfs 최단 거리, 간선의 비용이 모두 같을 때!\n",
    "# 거리가 1,2,3,4,5인 순서로 방문을 하게 됨!\n",
    "from collections import deque\n",
    "def bfs(graph, start):\n",
    "    queue = deque()\n",
    "    queue.append(start)\n",
    "    dx,dy=[0,1,0,-1], [1,0,-1,0]\n",
    "\n",
    "    while queue:\n",
    "        x,y = queue.popleft()\n",
    "        \n",
    "        if x ==n-1 and y ==m-1:\n",
    "            return count\n",
    "        for i in range(4):\n",
    "            nx, ny = x+dx[i], y+dy[i]\n",
    "            if nx<0 or nx>n-1 or ny<0 or ny>m-1:\n",
    "                continue\n",
    "            if graph[nx][ny]==0:\n",
    "                continue\n",
    "            if graph[nx][ny]!=1:\n",
    "                continue\n",
    "            queue.append((nx,ny))\n",
    "            graph[nx][ny]= graph[x][y]+1\n",
    "\n",
    "\n",
    "n,m = map(int,input().split())\n",
    "graph = []\n",
    "for i in range(n):\n",
    "    graph.append(list(map(int,input())))\n",
    "bfs(graph, (0,0))\n",
    "print(graph[n-1][m-1])\n"
   ]
  },
  {
   "cell_type": "code",
   "execution_count": null,
   "metadata": {},
   "outputs": [],
   "source": [
    "# 정사각 행렬만 회전 -> -1로 넣어주고 삭제해야\n",
    "def rotate_90(matrix):\n",
    "    rows, cols = len(matrix), len(matrix[0])\n",
    "    rotate_matrix = [[0]*rows for _ in range(cols)]\n",
    "    for x in range(rows):\n",
    "        for y in range(cols):\n",
    "            rotate_matrix[y][-1-x]=matrix[x][y]\n",
    "    return rotate_matrix\n",
    "\n",
    "# 예제 행렬\n",
    "matrix = [\n",
    "    [3, 2],\n",
    "    [14, 5],\n",
    "    [9, 2]\n",
    "]"
   ]
  },
  {
   "cell_type": "code",
   "execution_count": null,
   "metadata": {},
   "outputs": [],
   "source": [
    "rotate_90(matrix)"
   ]
  },
  {
   "cell_type": "code",
   "execution_count": null,
   "metadata": {},
   "outputs": [],
   "source": [
    "rotate_90(rotate_90(matrix))"
   ]
  },
  {
   "cell_type": "code",
   "execution_count": null,
   "metadata": {},
   "outputs": [],
   "source": [
    "rotate_90(rotate_90(rotate_90(matrix)))"
   ]
  },
  {
   "cell_type": "code",
   "execution_count": null,
   "metadata": {},
   "outputs": [],
   "source": [
    "rotate_90(rotate_90(rotate_90(rotate_90(matrix))))"
   ]
  },
  {
   "cell_type": "code",
   "execution_count": null,
   "metadata": {},
   "outputs": [],
   "source": []
  }
 ],
 "metadata": {
  "kernelspec": {
   "display_name": "Python 3",
   "language": "python",
   "name": "python3"
  },
  "language_info": {
   "codemirror_mode": {
    "name": "ipython",
    "version": 3
   },
   "file_extension": ".py",
   "mimetype": "text/x-python",
   "name": "python",
   "nbconvert_exporter": "python",
   "pygments_lexer": "ipython3",
   "version": "3.11.0"
  },
  "orig_nbformat": 4
 },
 "nbformat": 4,
 "nbformat_minor": 2
}
