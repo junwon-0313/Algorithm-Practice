{
 "cells": [
  {
   "cell_type": "markdown",
   "metadata": {},
   "source": [
    "bottom-up은 maximum 깊이 초과 안함 코드 구현 쉬움\n",
    "top-down은 최대 깊이 초과함 코드 이해가 쉬움"
   ]
  },
  {
   "cell_type": "code",
   "execution_count": null,
   "metadata": {},
   "outputs": [],
   "source": [
    "dp = [0]*101\n",
    "dp[1] = 1\n",
    "dp[2] = 1\n",
    "def fibo_dp(n: int):\n",
    "    if dp[n]!=0:\n",
    "        return dp[n]\n",
    "    else:\n",
    "        fibo_dp(n-1)\n",
    "        dp[n]= dp[n-1]+ dp[n-2]      \n",
    "\n",
    "n = int(input())\n",
    "fibo_dp(n)\n",
    "print(dp[n])"
   ]
  },
  {
   "cell_type": "code",
   "execution_count": null,
   "metadata": {},
   "outputs": [],
   "source": [
    "print(dp)"
   ]
  }
 ],
 "metadata": {
  "kernelspec": {
   "display_name": "Python 3",
   "language": "python",
   "name": "python3"
  },
  "language_info": {
   "codemirror_mode": {
    "name": "ipython",
    "version": 3
   },
   "file_extension": ".py",
   "mimetype": "text/x-python",
   "name": "python",
   "nbconvert_exporter": "python",
   "pygments_lexer": "ipython3",
   "version": "3.11.0"
  }
 },
 "nbformat": 4,
 "nbformat_minor": 2
}
