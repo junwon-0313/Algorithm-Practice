{
 "cells": [
  {
   "cell_type": "code",
   "execution_count": null,
   "metadata": {},
   "outputs": [],
   "source": [
    "# 현재 상황에서 지금 당장 좋은 것만 고르는 것\n",
    "# 일반적인 상황에서 그리디 알고리즘은 최적의 해를 보장할 수 없음."
   ]
  },
  {
   "cell_type": "markdown",
   "metadata": {},
   "source": [
    "# 행렬 회전"
   ]
  },
  {
   "cell_type": "code",
   "execution_count": null,
   "metadata": {},
   "outputs": [],
   "source": [
    "N=5\n",
    "graph = [[0]*(N) for _ in range(N)]\n",
    "for i in range(N):\n",
    "    for j in range(N):\n",
    "        graph[i][j]=(i)*N+j+1\n",
    "print(graph)        "
   ]
  },
  {
   "cell_type": "code",
   "execution_count": null,
   "metadata": {},
   "outputs": [],
   "source": [
    "def rotate_90(graph):\n",
    "    rotate = [[0]*(len(graph)) for _ in range(len(graph[0]))]\n",
    "    for x in range(len(graph)):\n",
    "        for y in range(len(graph[0])):\n",
    "            rotate[y][-1-x]=graph[x][y]\n",
    "    return rotate\n",
    "\n",
    "def rotate_180(graph):\n",
    "    rotate = [[0]*(len(graph[0])) for _ in range(len(graph))]\n",
    "    for x in range(len(graph)):\n",
    "        for y in range(len(graph[0])):\n",
    "            rotate[-x-1][-y-1]=graph[x][y]\n",
    "    return rotate\n",
    "\n",
    "def rotate_270(graph):\n",
    "    rotate = [[0]*(len(graph)) for _ in range(len(graph[0]))]\n",
    "    for x in range(len(graph)):\n",
    "        for y in range(len(graph[0])):\n",
    "            rotate[-y-1][x]=graph[x][y]\n",
    "    return rotate\n",
    "\n",
    "\n",
    "print('graph')\n",
    "for i in range(len(graph)):\n",
    "    for j in range(len(graph[0])):\n",
    "        print(graph[i][j], end =' ')\n",
    "    print()\n",
    "\n",
    "graph_90 = rotate_90(graph)\n",
    "print('시계방향 90도 회전')\n",
    "for i in range(len(graph_90)):\n",
    "    for j in range(len(graph_90[0])):\n",
    "        print(graph_90[i][j], end =' ')\n",
    "    print()\n",
    "\n",
    "graph_180 = rotate_180(graph)\n",
    "print('시계방향 180도 회전')\n",
    "for i in range(len(graph_180)):\n",
    "    for j in range(len(graph_180[0])):\n",
    "        print(graph_180[i][j], end =' ')\n",
    "    print()\n",
    "    \n",
    "graph_270 = rotate_270(graph)\n",
    "print('시계방향 270도 회전')\n",
    "for i in range(len(graph_270)):\n",
    "    for j in range(len(graph_270[0])):\n",
    "        print(graph_270[i][j], end =' ')\n",
    "    print()\n",
    "    "
   ]
  },
  {
   "cell_type": "code",
   "execution_count": null,
   "metadata": {},
   "outputs": [],
   "source": [
    "# set은 튜플형태의 데이터만 넣을 수 있음\n",
    "wall = set() \n",
    "wall.add(((1,2),(2,3)))\n",
    "\n",
    "((1,2),(2,3)) in wall\n",
    "((2,3),(1,2)) in wall\n",
    "# 정렬을 하거나"
   ]
  },
  {
   "cell_type": "markdown",
   "metadata": {},
   "source": [
    "## 삼성 코테 2번 문제"
   ]
  },
  {
   "cell_type": "code",
   "execution_count": 7,
   "metadata": {},
   "outputs": [
    {
     "name": "stdout",
     "output_type": "stream",
     "text": [
      "(10, 2, 3)\n",
      "[[False], [False], [False], [False], [False], [False], [False], [False], [False], [False]]\n"
     ]
    }
   ],
   "source": [
    "# 전역 변수 초기화, 리스트는 안해줘도 되긴 함!\n",
    "L = None  \n",
    "M = None\n",
    "N = None\n",
    "\n",
    "def init(L_val, M_val, N_val):\n",
    "    # global 키워드로 전역 변수를 사용\n",
    "    global L, M, N, lst\n",
    "    L = L_val\n",
    "    M = M_val\n",
    "    N = N_val\n",
    "    lst = [[False] for _ in range(L)]\n",
    "\n",
    "def test():\n",
    "    # L, M, N의 값을 튜플로 반환\n",
    "    return L, M, N  \n",
    "\n",
    "init(10, 2, 3)\n",
    "result = test()  # test 함수를 호출하고 결과를 변수에 저장\n",
    "print(result)  # 출력: (10, 2, 3)\n",
    "print(lst)"
   ]
  },
  {
   "cell_type": "code",
   "execution_count": null,
   "metadata": {},
   "outputs": [],
   "source": []
  }
 ],
 "metadata": {
  "kernelspec": {
   "display_name": "Python 3",
   "language": "python",
   "name": "python3"
  },
  "language_info": {
   "codemirror_mode": {
    "name": "ipython",
    "version": 3
   },
   "file_extension": ".py",
   "mimetype": "text/x-python",
   "name": "python",
   "nbconvert_exporter": "python",
   "pygments_lexer": "ipython3",
   "version": "3.11.0"
  },
  "orig_nbformat": 4
 },
 "nbformat": 4,
 "nbformat_minor": 2
}
